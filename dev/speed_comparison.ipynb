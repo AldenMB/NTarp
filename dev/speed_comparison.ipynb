{
 "cells": [
  {
   "cell_type": "markdown",
   "id": "3b9f2c43-7079-42e7-b7f8-c13b542c52ab",
   "metadata": {},
   "source": [
    "The `ckmeans` algorithm solves the same problem as the `separability`, i.e. finding the exact solution to kmeans in one dimension, when k=2. The quesion is, which does it faster? Let's do some simple benchmarks."
   ]
  },
  {
   "cell_type": "code",
   "execution_count": 1,
   "id": "c24c0dc4-c0c5-4117-abbc-22f67fa10d5a",
   "metadata": {},
   "outputs": [],
   "source": [
    "from ntarp import separability as sep\n",
    "from ckmeans_1d_dp import ckmeans"
   ]
  },
  {
   "cell_type": "code",
   "execution_count": 2,
   "id": "7d45a12e-649e-461f-b871-7de9dd0b2b02",
   "metadata": {},
   "outputs": [],
   "source": [
    "from sklearn.datasets import make_blobs\n",
    "import numpy as np"
   ]
  },
  {
   "cell_type": "code",
   "execution_count": 3,
   "id": "237ef3a5-960d-4413-88c5-201b3ff38355",
   "metadata": {},
   "outputs": [],
   "source": [
    "x = np.zeros((10_000, 100))\n",
    "for i in range(10_000):\n",
    "    x[i][..., np.newaxis], __ = make_blobs(n_samples = 100, n_features = 1, centers =2)"
   ]
  },
  {
   "cell_type": "code",
   "execution_count": 4,
   "id": "1b6380bf-6e82-427f-b2cc-f057c3775b3b",
   "metadata": {},
   "outputs": [
    {
     "name": "stdout",
     "output_type": "stream",
     "text": [
      "44.8 ms ± 369 µs per loop (mean ± std. dev. of 7 runs, 10 loops each)\n"
     ]
    }
   ],
   "source": [
    "%%timeit\n",
    "sep.w(x)"
   ]
  },
  {
   "cell_type": "code",
   "execution_count": 5,
   "id": "26e489e4-c723-486a-af59-b6ffd3a85024",
   "metadata": {},
   "outputs": [],
   "source": [
    "def their_normalized_withinss(x):\n",
    "    result = ckmeans(x, k=2)\n",
    "    return result.tot_withinss / result.totss"
   ]
  },
  {
   "cell_type": "code",
   "execution_count": 6,
   "id": "ddae192b-9f89-43b2-931a-c18465125c3b",
   "metadata": {},
   "outputs": [
    {
     "name": "stdout",
     "output_type": "stream",
     "text": [
      "111 ms ± 335 µs per loop (mean ± std. dev. of 7 runs, 10 loops each)\n"
     ]
    }
   ],
   "source": [
    "%%timeit\n",
    "their_normalized_withinss(x)"
   ]
  },
  {
   "cell_type": "markdown",
   "id": "212e1ded-57a6-4734-89f1-cd81cfbedfe2",
   "metadata": {},
   "source": [
    "Our version is faster, by a factor of approximately 2. That's good news for us."
   ]
  },
  {
   "cell_type": "code",
   "execution_count": 7,
   "id": "1e40d8a8-5569-4041-8873-bf16ccf7931b",
   "metadata": {},
   "outputs": [
    {
     "data": {
      "text/plain": [
       "array([0.02323745, 0.35250037, 0.32114736, ..., 0.05860749, 0.0526579 ,\n",
       "       0.34088928])"
      ]
     },
     "execution_count": 7,
     "metadata": {},
     "output_type": "execute_result"
    }
   ],
   "source": [
    "my_w = sep.w(x)\n",
    "my_w"
   ]
  },
  {
   "cell_type": "code",
   "execution_count": 8,
   "id": "5347549c-f572-42ae-954b-d66932815900",
   "metadata": {},
   "outputs": [
    {
     "data": {
      "text/plain": [
       "array([0.02323745, 0.35250037, 0.32114736, ..., 0.05860749, 0.0526579 ,\n",
       "       0.34088928])"
      ]
     },
     "execution_count": 8,
     "metadata": {},
     "output_type": "execute_result"
    }
   ],
   "source": [
    "their_w = their_normalized_withinss(x)\n",
    "their_w"
   ]
  },
  {
   "cell_type": "code",
   "execution_count": 9,
   "id": "375a008c-743e-409b-bc5a-b70e4cdefb3b",
   "metadata": {},
   "outputs": [
    {
     "data": {
      "text/plain": [
       "array([ 8.67361738e-17,  5.55111512e-16,  4.71844785e-15, ...,\n",
       "        3.05311332e-16,  7.63278329e-17, -2.22044605e-16])"
      ]
     },
     "execution_count": 9,
     "metadata": {},
     "output_type": "execute_result"
    }
   ],
   "source": [
    "my_w - their_w"
   ]
  },
  {
   "cell_type": "code",
   "execution_count": 10,
   "id": "207e3cb9-88b5-47cd-9e7d-d9728423e424",
   "metadata": {},
   "outputs": [
    {
     "data": {
      "text/plain": [
       "True"
      ]
     },
     "execution_count": 10,
     "metadata": {},
     "output_type": "execute_result"
    }
   ],
   "source": [
    "np.allclose(my_w, their_w)"
   ]
  },
  {
   "cell_type": "code",
   "execution_count": 11,
   "id": "11e36ac6-9f39-41d0-92a0-a0a41fefdea9",
   "metadata": {},
   "outputs": [
    {
     "data": {
      "text/plain": [
       "-46.38529015588479"
      ]
     },
     "execution_count": 11,
     "metadata": {},
     "output_type": "execute_result"
    }
   ],
   "source": [
    "np.log2(abs(my_w-their_w).max())"
   ]
  },
  {
   "cell_type": "code",
   "execution_count": null,
   "id": "8bb64ec7-2704-4333-af88-1078c161c930",
   "metadata": {},
   "outputs": [],
   "source": []
  }
 ],
 "metadata": {
  "kernelspec": {
   "display_name": "ntarp_dev",
   "language": "python",
   "name": "ntarp_dev"
  },
  "language_info": {
   "codemirror_mode": {
    "name": "ipython",
    "version": 3
   },
   "file_extension": ".py",
   "mimetype": "text/x-python",
   "name": "python",
   "nbconvert_exporter": "python",
   "pygments_lexer": "ipython3",
   "version": "3.11.0"
  }
 },
 "nbformat": 4,
 "nbformat_minor": 5
}
